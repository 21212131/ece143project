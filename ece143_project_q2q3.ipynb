{
 "cells": [
  {
   "cell_type": "code",
   "execution_count": 71,
   "metadata": {},
   "outputs": [
    {
     "data": {
      "text/html": [
       "<script type=\"text/javascript\">window.PlotlyConfig = {MathJaxConfig: 'local'};</script><script type=\"text/javascript\">if (window.MathJax) {MathJax.Hub.Config({SVG: {font: \"STIX-Web\"}});}</script><script>requirejs.config({paths: { 'plotly': ['https://cdn.plot.ly/plotly-latest.min']},});if(!window._Plotly) {require(['plotly'],function(plotly) {window._Plotly=plotly;});}</script>"
      ],
      "text/vnd.plotly.v1+html": [
       "<script type=\"text/javascript\">window.PlotlyConfig = {MathJaxConfig: 'local'};</script><script type=\"text/javascript\">if (window.MathJax) {MathJax.Hub.Config({SVG: {font: \"STIX-Web\"}});}</script><script>requirejs.config({paths: { 'plotly': ['https://cdn.plot.ly/plotly-latest.min']},});if(!window._Plotly) {require(['plotly'],function(plotly) {window._Plotly=plotly;});}</script>"
      ]
     },
     "metadata": {},
     "output_type": "display_data"
    }
   ],
   "source": [
    "import numpy as np\n",
    "import pandas as pd\n",
    "import seaborn as sns\n",
    "\n",
    "import matplotlib.pyplot as plt\n",
    "\n",
    "import plotly.graph_objs as go\n",
    "from plotly.offline import download_plotlyjs,init_notebook_mode,plot,iplot\n",
    "import plotly.figure_factory as ff\n",
    "from scipy import stats\n",
    "\n",
    "init_notebook_mode(connected=True)"
   ]
  },
  {
   "cell_type": "code",
   "execution_count": 40,
   "metadata": {},
   "outputs": [],
   "source": [
    "Degree_df = pd.read_csv(\"d:/UCSD_ECE143/project/degrees-that-pay-back.csv\")\n",
    "College_df = pd.read_csv(\"d:/UCSD_ECE143/project/salaries-by-college.csv\")\n",
    "\n",
    "#State_df = pd.read_csv(\"d:/UCSD_ECE143/project/salaries-by-state.csv\")"
   ]
  },
  {
   "cell_type": "code",
   "execution_count": 3,
   "metadata": {},
   "outputs": [],
   "source": [
    "def string_dollar_to_integer(data, column):\n",
    "    '''\n",
    "    change string dollar to integer dollar\n",
    "    example : $75,000.00 to 75000\n",
    "    data: pandas.core.frame.DataFrame\n",
    "    column: valid column name in data\n",
    "    '''\n",
    "    assert isinstance(column, str)\n",
    "    assert data.columns.contains(column)\n",
    "    data[column] = data[column].apply(lambda x: int(x.replace(\",\",\"\").strip('$').split('.')[0]) if isinstance(x, str) else x)"
   ]
  },
  {
   "cell_type": "code",
   "execution_count": 42,
   "metadata": {},
   "outputs": [],
   "source": [
    "for df in [Degree_df, College_df]:\n",
    "    string_dollar_to_integer(df, 'Starting Median Salary')\n",
    "    string_dollar_to_integer(df, 'Mid-Career Median Salary')\n",
    "    string_dollar_to_integer(df, 'Mid-Career 10th Percentile Salary')\n",
    "    string_dollar_to_integer(df, 'Mid-Career 25th Percentile Salary')\n",
    "    string_dollar_to_integer(df, 'Mid-Career 75th Percentile Salary')\n",
    "    string_dollar_to_integer(df, 'Mid-Career 90th Percentile Salary')\n"
   ]
  },
  {
   "cell_type": "code",
   "execution_count": 43,
   "metadata": {},
   "outputs": [],
   "source": [
    "def visulize_region_difference(College_df, stage_str):\n",
    "    '''\n",
    "    College_df : pandas.core.frame.DataFrame\n",
    "    stage_str: str\n",
    "    plot state vs salaries\n",
    "    '''\n",
    "    State_group = College_df.groupby(['State'])\n",
    "    state = State_group[stage_str].mean().index\n",
    "    value = State_group[stage_str].mean().values\n",
    "    \n",
    "    data = dict(type = 'choropleth',\n",
    "               locations = state,\n",
    "               locationmode = 'USA-states',\n",
    "               colorscale = 'Portland',#['Greys', 'YlGnBu', 'Greens', 'YlOrRd', 'Bluered', 'RdBu',\n",
    "            #'Reds', 'Blues', 'Picnic', 'Rainbow', 'Portland', 'Jet',\n",
    "            #'Hot', 'Blackbody', 'Earth', 'Electric', 'Viridis', 'Cividis'],\n",
    "               text = state,\n",
    "               marker = dict (line = dict(color = 'rgb(255,255,255)',width=2)),\n",
    "               z = value,\n",
    "               colorbar = {'title': stage_str})\n",
    "\n",
    "    layout = dict(title = 'Region wise divide to show '+ stage_str,\n",
    "             geo=dict(scope = 'usa')) \n",
    "\n",
    "    choromap2 = go.Figure(data = [data],layout=layout)\n",
    "    iplot(choromap2)"
   ]
  },
  {
   "cell_type": "code",
   "execution_count": 44,
   "metadata": {},
   "outputs": [
    {
     "data": {
      "application/vnd.plotly.v1+json": {
       "data": [
        {
         "colorbar": {
          "title": "Starting Median Salary"
         },
         "colorscale": "Portland",
         "locationmode": "USA-states",
         "locations": [
          "AK",
          "AL",
          "AR",
          "AZ",
          "CA",
          "CO",
          "CT",
          "DE",
          "FL",
          "GA",
          "HI",
          "IA",
          "ID",
          "IL",
          "IN",
          "KS",
          "KY",
          "LA",
          "MA",
          "MD",
          "ME",
          "MI",
          "MN",
          "MO",
          "MS",
          "MT",
          "NC",
          "ND",
          "NE",
          "NH",
          "NJ",
          "NM",
          "NV",
          "NY",
          "OH",
          "OK",
          "OR",
          "PA",
          "RI",
          "SC",
          "SD",
          "TN",
          "TX",
          "UT",
          "VA",
          "VT",
          "WA",
          "WI",
          "WY"
         ],
         "marker": {
          "line": {
           "color": "rgb(255,255,255)",
           "width": 2
          }
         },
         "text": [
          "AK",
          "AL",
          "AR",
          "AZ",
          "CA",
          "CO",
          "CT",
          "DE",
          "FL",
          "GA",
          "HI",
          "IA",
          "ID",
          "IL",
          "IN",
          "KS",
          "KY",
          "LA",
          "MA",
          "MD",
          "ME",
          "MI",
          "MN",
          "MO",
          "MS",
          "MT",
          "NC",
          "ND",
          "NE",
          "NH",
          "NJ",
          "NM",
          "NV",
          "NY",
          "OH",
          "OK",
          "OR",
          "PA",
          "RI",
          "SC",
          "SD",
          "TN",
          "TX",
          "UT",
          "VA",
          "VT",
          "WA",
          "WI",
          "WY"
         ],
         "type": "choropleth",
         "uid": "0983a961-6fd2-4faa-8c49-b665e14ee211",
         "z": [
          45900,
          42060,
          40666.666666666664,
          47433.333333333336,
          49792.857142857145,
          46100,
          51200,
          45900,
          44511.11111111111,
          47075,
          43800,
          44350,
          43533.333333333336,
          48271.42857142857,
          44900,
          42033.333333333336,
          38800,
          44966.666666666664,
          50560,
          50333.333333333336,
          44480,
          44880,
          44766.666666666664,
          43040,
          42433.333333333336,
          40600,
          41787.5,
          44550,
          43600,
          47200,
          59133.333333333336,
          45633.333333333336,
          45850,
          48191.666666666664,
          41827.27272727273,
          43750,
          41860,
          49700,
          50050,
          48400,
          44066.666666666664,
          42580,
          45966.666666666664,
          43375,
          46222.22222222222,
          46250,
          44825,
          41872.72727272727,
          44500
         ]
        }
       ],
       "layout": {
        "geo": {
         "scope": "usa"
        },
        "title": "Region wise divide to show Starting Median Salary"
       }
      },
      "text/html": [
       "<div id=\"1def9c3e-a839-4fcc-bd60-90a1fd5c432e\" style=\"height: 525px; width: 100%;\" class=\"plotly-graph-div\"></div><script type=\"text/javascript\">require([\"plotly\"], function(Plotly) { window.PLOTLYENV=window.PLOTLYENV || {};window.PLOTLYENV.BASE_URL=\"https://plot.ly\";Plotly.newPlot(\"1def9c3e-a839-4fcc-bd60-90a1fd5c432e\", [{\"colorbar\": {\"title\": \"Starting Median Salary\"}, \"colorscale\": \"Portland\", \"locationmode\": \"USA-states\", \"locations\": [\"AK\", \"AL\", \"AR\", \"AZ\", \"CA\", \"CO\", \"CT\", \"DE\", \"FL\", \"GA\", \"HI\", \"IA\", \"ID\", \"IL\", \"IN\", \"KS\", \"KY\", \"LA\", \"MA\", \"MD\", \"ME\", \"MI\", \"MN\", \"MO\", \"MS\", \"MT\", \"NC\", \"ND\", \"NE\", \"NH\", \"NJ\", \"NM\", \"NV\", \"NY\", \"OH\", \"OK\", \"OR\", \"PA\", \"RI\", \"SC\", \"SD\", \"TN\", \"TX\", \"UT\", \"VA\", \"VT\", \"WA\", \"WI\", \"WY\"], \"marker\": {\"line\": {\"color\": \"rgb(255,255,255)\", \"width\": 2}}, \"text\": [\"AK\", \"AL\", \"AR\", \"AZ\", \"CA\", \"CO\", \"CT\", \"DE\", \"FL\", \"GA\", \"HI\", \"IA\", \"ID\", \"IL\", \"IN\", \"KS\", \"KY\", \"LA\", \"MA\", \"MD\", \"ME\", \"MI\", \"MN\", \"MO\", \"MS\", \"MT\", \"NC\", \"ND\", \"NE\", \"NH\", \"NJ\", \"NM\", \"NV\", \"NY\", \"OH\", \"OK\", \"OR\", \"PA\", \"RI\", \"SC\", \"SD\", \"TN\", \"TX\", \"UT\", \"VA\", \"VT\", \"WA\", \"WI\", \"WY\"], \"z\": [45900.0, 42060.0, 40666.666666666664, 47433.333333333336, 49792.857142857145, 46100.0, 51200.0, 45900.0, 44511.11111111111, 47075.0, 43800.0, 44350.0, 43533.333333333336, 48271.42857142857, 44900.0, 42033.333333333336, 38800.0, 44966.666666666664, 50560.0, 50333.333333333336, 44480.0, 44880.0, 44766.666666666664, 43040.0, 42433.333333333336, 40600.0, 41787.5, 44550.0, 43600.0, 47200.0, 59133.333333333336, 45633.333333333336, 45850.0, 48191.666666666664, 41827.27272727273, 43750.0, 41860.0, 49700.0, 50050.0, 48400.0, 44066.666666666664, 42580.0, 45966.666666666664, 43375.0, 46222.22222222222, 46250.0, 44825.0, 41872.72727272727, 44500.0], \"type\": \"choropleth\", \"uid\": \"0983a961-6fd2-4faa-8c49-b665e14ee211\"}], {\"geo\": {\"scope\": \"usa\"}, \"title\": \"Region wise divide to show Starting Median Salary\"}, {\"showLink\": true, \"linkText\": \"Export to plot.ly\"})});</script><script type=\"text/javascript\">window.addEventListener(\"resize\", function(){window._Plotly.Plots.resize(document.getElementById(\"1def9c3e-a839-4fcc-bd60-90a1fd5c432e\"));});</script>"
      ],
      "text/vnd.plotly.v1+html": [
       "<div id=\"1def9c3e-a839-4fcc-bd60-90a1fd5c432e\" style=\"height: 525px; width: 100%;\" class=\"plotly-graph-div\"></div><script type=\"text/javascript\">require([\"plotly\"], function(Plotly) { window.PLOTLYENV=window.PLOTLYENV || {};window.PLOTLYENV.BASE_URL=\"https://plot.ly\";Plotly.newPlot(\"1def9c3e-a839-4fcc-bd60-90a1fd5c432e\", [{\"colorbar\": {\"title\": \"Starting Median Salary\"}, \"colorscale\": \"Portland\", \"locationmode\": \"USA-states\", \"locations\": [\"AK\", \"AL\", \"AR\", \"AZ\", \"CA\", \"CO\", \"CT\", \"DE\", \"FL\", \"GA\", \"HI\", \"IA\", \"ID\", \"IL\", \"IN\", \"KS\", \"KY\", \"LA\", \"MA\", \"MD\", \"ME\", \"MI\", \"MN\", \"MO\", \"MS\", \"MT\", \"NC\", \"ND\", \"NE\", \"NH\", \"NJ\", \"NM\", \"NV\", \"NY\", \"OH\", \"OK\", \"OR\", \"PA\", \"RI\", \"SC\", \"SD\", \"TN\", \"TX\", \"UT\", \"VA\", \"VT\", \"WA\", \"WI\", \"WY\"], \"marker\": {\"line\": {\"color\": \"rgb(255,255,255)\", \"width\": 2}}, \"text\": [\"AK\", \"AL\", \"AR\", \"AZ\", \"CA\", \"CO\", \"CT\", \"DE\", \"FL\", \"GA\", \"HI\", \"IA\", \"ID\", \"IL\", \"IN\", \"KS\", \"KY\", \"LA\", \"MA\", \"MD\", \"ME\", \"MI\", \"MN\", \"MO\", \"MS\", \"MT\", \"NC\", \"ND\", \"NE\", \"NH\", \"NJ\", \"NM\", \"NV\", \"NY\", \"OH\", \"OK\", \"OR\", \"PA\", \"RI\", \"SC\", \"SD\", \"TN\", \"TX\", \"UT\", \"VA\", \"VT\", \"WA\", \"WI\", \"WY\"], \"z\": [45900.0, 42060.0, 40666.666666666664, 47433.333333333336, 49792.857142857145, 46100.0, 51200.0, 45900.0, 44511.11111111111, 47075.0, 43800.0, 44350.0, 43533.333333333336, 48271.42857142857, 44900.0, 42033.333333333336, 38800.0, 44966.666666666664, 50560.0, 50333.333333333336, 44480.0, 44880.0, 44766.666666666664, 43040.0, 42433.333333333336, 40600.0, 41787.5, 44550.0, 43600.0, 47200.0, 59133.333333333336, 45633.333333333336, 45850.0, 48191.666666666664, 41827.27272727273, 43750.0, 41860.0, 49700.0, 50050.0, 48400.0, 44066.666666666664, 42580.0, 45966.666666666664, 43375.0, 46222.22222222222, 46250.0, 44825.0, 41872.72727272727, 44500.0], \"type\": \"choropleth\", \"uid\": \"0983a961-6fd2-4faa-8c49-b665e14ee211\"}], {\"geo\": {\"scope\": \"usa\"}, \"title\": \"Region wise divide to show Starting Median Salary\"}, {\"showLink\": true, \"linkText\": \"Export to plot.ly\"})});</script><script type=\"text/javascript\">window.addEventListener(\"resize\", function(){window._Plotly.Plots.resize(document.getElementById(\"1def9c3e-a839-4fcc-bd60-90a1fd5c432e\"));});</script>"
      ]
     },
     "metadata": {},
     "output_type": "display_data"
    }
   ],
   "source": [
    "visulize_region_difference(College_df, 'Starting Median Salary')"
   ]
  },
  {
   "cell_type": "code",
   "execution_count": 45,
   "metadata": {},
   "outputs": [
    {
     "data": {
      "application/vnd.plotly.v1+json": {
       "data": [
        {
         "colorbar": {
          "title": "Mid-Career Median Salary"
         },
         "colorscale": "Portland",
         "locationmode": "USA-states",
         "locations": [
          "AK",
          "AL",
          "AR",
          "AZ",
          "CA",
          "CO",
          "CT",
          "DE",
          "FL",
          "GA",
          "HI",
          "IA",
          "ID",
          "IL",
          "IN",
          "KS",
          "KY",
          "LA",
          "MA",
          "MD",
          "ME",
          "MI",
          "MN",
          "MO",
          "MS",
          "MT",
          "NC",
          "ND",
          "NE",
          "NH",
          "NJ",
          "NM",
          "NV",
          "NY",
          "OH",
          "OK",
          "OR",
          "PA",
          "RI",
          "SC",
          "SD",
          "TN",
          "TX",
          "UT",
          "VA",
          "VT",
          "WA",
          "WI",
          "WY"
         ],
         "marker": {
          "line": {
           "color": "rgb(255,255,255)",
           "width": 2
          }
         },
         "text": [
          "AK",
          "AL",
          "AR",
          "AZ",
          "CA",
          "CO",
          "CT",
          "DE",
          "FL",
          "GA",
          "HI",
          "IA",
          "ID",
          "IL",
          "IN",
          "KS",
          "KY",
          "LA",
          "MA",
          "MD",
          "ME",
          "MI",
          "MN",
          "MO",
          "MS",
          "MT",
          "NC",
          "ND",
          "NE",
          "NH",
          "NJ",
          "NM",
          "NV",
          "NY",
          "OH",
          "OK",
          "OR",
          "PA",
          "RI",
          "SC",
          "SD",
          "TN",
          "TX",
          "UT",
          "VA",
          "VT",
          "WA",
          "WI",
          "WY"
         ],
         "type": "choropleth",
         "uid": "50cfbaac-fba3-4bbd-a8fe-3b4e75daa662",
         "z": [
          72600,
          80060,
          73533.33333333333,
          84766.66666666667,
          90921.42857142857,
          86366.66666666667,
          104233.33333333333,
          84500,
          76877.77777777778,
          88000,
          76000,
          82250,
          74966.66666666667,
          85485.71428571429,
          82260,
          72933.33333333333,
          69450,
          83966.66666666667,
          96033.33333333333,
          89266.66666666667,
          85000,
          80060,
          83350,
          75840,
          79566.66666666667,
          66666.66666666667,
          76300,
          79200,
          76750,
          96866.66666666667,
          109266.66666666667,
          84833.33333333333,
          77250,
          90383.33333333333,
          75254.54545454546,
          81800,
          77260,
          93023.07692307692,
          97150,
          86000,
          70266.66666666667,
          71620,
          81022.22222222222,
          71375,
          85744.44444444444,
          88450,
          80725,
          71018.18181818182,
          78700
         ]
        }
       ],
       "layout": {
        "geo": {
         "scope": "usa"
        },
        "title": "Region wise divide to show Mid-Career Median Salary"
       }
      },
      "text/html": [
       "<div id=\"438a9461-ddaa-49b1-8331-51bda0807d13\" style=\"height: 525px; width: 100%;\" class=\"plotly-graph-div\"></div><script type=\"text/javascript\">require([\"plotly\"], function(Plotly) { window.PLOTLYENV=window.PLOTLYENV || {};window.PLOTLYENV.BASE_URL=\"https://plot.ly\";Plotly.newPlot(\"438a9461-ddaa-49b1-8331-51bda0807d13\", [{\"colorbar\": {\"title\": \"Mid-Career Median Salary\"}, \"colorscale\": \"Portland\", \"locationmode\": \"USA-states\", \"locations\": [\"AK\", \"AL\", \"AR\", \"AZ\", \"CA\", \"CO\", \"CT\", \"DE\", \"FL\", \"GA\", \"HI\", \"IA\", \"ID\", \"IL\", \"IN\", \"KS\", \"KY\", \"LA\", \"MA\", \"MD\", \"ME\", \"MI\", \"MN\", \"MO\", \"MS\", \"MT\", \"NC\", \"ND\", \"NE\", \"NH\", \"NJ\", \"NM\", \"NV\", \"NY\", \"OH\", \"OK\", \"OR\", \"PA\", \"RI\", \"SC\", \"SD\", \"TN\", \"TX\", \"UT\", \"VA\", \"VT\", \"WA\", \"WI\", \"WY\"], \"marker\": {\"line\": {\"color\": \"rgb(255,255,255)\", \"width\": 2}}, \"text\": [\"AK\", \"AL\", \"AR\", \"AZ\", \"CA\", \"CO\", \"CT\", \"DE\", \"FL\", \"GA\", \"HI\", \"IA\", \"ID\", \"IL\", \"IN\", \"KS\", \"KY\", \"LA\", \"MA\", \"MD\", \"ME\", \"MI\", \"MN\", \"MO\", \"MS\", \"MT\", \"NC\", \"ND\", \"NE\", \"NH\", \"NJ\", \"NM\", \"NV\", \"NY\", \"OH\", \"OK\", \"OR\", \"PA\", \"RI\", \"SC\", \"SD\", \"TN\", \"TX\", \"UT\", \"VA\", \"VT\", \"WA\", \"WI\", \"WY\"], \"z\": [72600.0, 80060.0, 73533.33333333333, 84766.66666666667, 90921.42857142857, 86366.66666666667, 104233.33333333333, 84500.0, 76877.77777777778, 88000.0, 76000.0, 82250.0, 74966.66666666667, 85485.71428571429, 82260.0, 72933.33333333333, 69450.0, 83966.66666666667, 96033.33333333333, 89266.66666666667, 85000.0, 80060.0, 83350.0, 75840.0, 79566.66666666667, 66666.66666666667, 76300.0, 79200.0, 76750.0, 96866.66666666667, 109266.66666666667, 84833.33333333333, 77250.0, 90383.33333333333, 75254.54545454546, 81800.0, 77260.0, 93023.07692307692, 97150.0, 86000.0, 70266.66666666667, 71620.0, 81022.22222222222, 71375.0, 85744.44444444444, 88450.0, 80725.0, 71018.18181818182, 78700.0], \"type\": \"choropleth\", \"uid\": \"50cfbaac-fba3-4bbd-a8fe-3b4e75daa662\"}], {\"geo\": {\"scope\": \"usa\"}, \"title\": \"Region wise divide to show Mid-Career Median Salary\"}, {\"showLink\": true, \"linkText\": \"Export to plot.ly\"})});</script><script type=\"text/javascript\">window.addEventListener(\"resize\", function(){window._Plotly.Plots.resize(document.getElementById(\"438a9461-ddaa-49b1-8331-51bda0807d13\"));});</script>"
      ],
      "text/vnd.plotly.v1+html": [
       "<div id=\"438a9461-ddaa-49b1-8331-51bda0807d13\" style=\"height: 525px; width: 100%;\" class=\"plotly-graph-div\"></div><script type=\"text/javascript\">require([\"plotly\"], function(Plotly) { window.PLOTLYENV=window.PLOTLYENV || {};window.PLOTLYENV.BASE_URL=\"https://plot.ly\";Plotly.newPlot(\"438a9461-ddaa-49b1-8331-51bda0807d13\", [{\"colorbar\": {\"title\": \"Mid-Career Median Salary\"}, \"colorscale\": \"Portland\", \"locationmode\": \"USA-states\", \"locations\": [\"AK\", \"AL\", \"AR\", \"AZ\", \"CA\", \"CO\", \"CT\", \"DE\", \"FL\", \"GA\", \"HI\", \"IA\", \"ID\", \"IL\", \"IN\", \"KS\", \"KY\", \"LA\", \"MA\", \"MD\", \"ME\", \"MI\", \"MN\", \"MO\", \"MS\", \"MT\", \"NC\", \"ND\", \"NE\", \"NH\", \"NJ\", \"NM\", \"NV\", \"NY\", \"OH\", \"OK\", \"OR\", \"PA\", \"RI\", \"SC\", \"SD\", \"TN\", \"TX\", \"UT\", \"VA\", \"VT\", \"WA\", \"WI\", \"WY\"], \"marker\": {\"line\": {\"color\": \"rgb(255,255,255)\", \"width\": 2}}, \"text\": [\"AK\", \"AL\", \"AR\", \"AZ\", \"CA\", \"CO\", \"CT\", \"DE\", \"FL\", \"GA\", \"HI\", \"IA\", \"ID\", \"IL\", \"IN\", \"KS\", \"KY\", \"LA\", \"MA\", \"MD\", \"ME\", \"MI\", \"MN\", \"MO\", \"MS\", \"MT\", \"NC\", \"ND\", \"NE\", \"NH\", \"NJ\", \"NM\", \"NV\", \"NY\", \"OH\", \"OK\", \"OR\", \"PA\", \"RI\", \"SC\", \"SD\", \"TN\", \"TX\", \"UT\", \"VA\", \"VT\", \"WA\", \"WI\", \"WY\"], \"z\": [72600.0, 80060.0, 73533.33333333333, 84766.66666666667, 90921.42857142857, 86366.66666666667, 104233.33333333333, 84500.0, 76877.77777777778, 88000.0, 76000.0, 82250.0, 74966.66666666667, 85485.71428571429, 82260.0, 72933.33333333333, 69450.0, 83966.66666666667, 96033.33333333333, 89266.66666666667, 85000.0, 80060.0, 83350.0, 75840.0, 79566.66666666667, 66666.66666666667, 76300.0, 79200.0, 76750.0, 96866.66666666667, 109266.66666666667, 84833.33333333333, 77250.0, 90383.33333333333, 75254.54545454546, 81800.0, 77260.0, 93023.07692307692, 97150.0, 86000.0, 70266.66666666667, 71620.0, 81022.22222222222, 71375.0, 85744.44444444444, 88450.0, 80725.0, 71018.18181818182, 78700.0], \"type\": \"choropleth\", \"uid\": \"50cfbaac-fba3-4bbd-a8fe-3b4e75daa662\"}], {\"geo\": {\"scope\": \"usa\"}, \"title\": \"Region wise divide to show Mid-Career Median Salary\"}, {\"showLink\": true, \"linkText\": \"Export to plot.ly\"})});</script><script type=\"text/javascript\">window.addEventListener(\"resize\", function(){window._Plotly.Plots.resize(document.getElementById(\"438a9461-ddaa-49b1-8331-51bda0807d13\"));});</script>"
      ]
     },
     "metadata": {},
     "output_type": "display_data"
    }
   ],
   "source": [
    "visulize_region_difference(State_df, 'Mid-Career Median Salary')"
   ]
  },
  {
   "cell_type": "code",
   "execution_count": 46,
   "metadata": {},
   "outputs": [],
   "source": [
    "import scipy\n",
    "from scipy.optimize import curve_fit"
   ]
  },
  {
   "cell_type": "code",
   "execution_count": 83,
   "metadata": {},
   "outputs": [],
   "source": [
    "def visulize_schooltype_difference(College_df, stage_str):\n",
    "    '''\n",
    "    College_df : pandas.core.frame.DataFrame\n",
    "    stage_str: str\n",
    "    plot state vs school type\n",
    "    '''\n",
    "    sns.set(style=\"ticks\")\n",
    "    Public_df = College_df[College_df['School Type']=='Public']\n",
    "    Private_df = College_df[College_df['School Type']=='Private']\n",
    "\n",
    "    sns.set(style=\"darkgrid\")\n",
    "    # Set up the figure\n",
    "    f, ax = plt.subplots()\n",
    "    #ax.set_aspect(\"equal\")\n",
    "\n",
    "    # \n",
    "    ax = sns.distplot(Public_df[stage_str].values, bins=15, kde=False, fit=stats.gamma, label='Public');\n",
    "    ax = sns.distplot(Private_df[stage_str].values, bins=15, kde=False, fit=stats.gamma, label='Private');\n",
    "\n",
    "    plt.legend()\n",
    "    #ax = sns.jointplot(Public_df[\"Starting Median Salary\"].values, Public_df[\"Mid-Career Median Salary\"].values, color=\"#4CB391\", ax=ax)\n",
    "    #ax = sns.jointplot(Private_df[\"Starting Median Salary\"].values, Private_df[\"Mid-Career Median Salary\"].values, ax=ax)"
   ]
  },
  {
   "cell_type": "code",
   "execution_count": 84,
   "metadata": {},
   "outputs": [
    {
     "data": {
      "image/png": "[encoded data removed]",
      "text/plain": [
       "<Figure size 432x288 with 1 Axes>"
      ]
     },
     "metadata": {},
     "output_type": "display_data"
    }
   ],
   "source": [
    "visulize_schooltype_difference(College_df, \"Starting Median Salary\")"
   ]
  },
  {
   "cell_type": "code",
   "execution_count": 85,
   "metadata": {},
   "outputs": [
    {
     "data": {
      "image/png": "[encoded data removed]",
      "text/plain": [
       "<Figure size 432x288 with 1 Axes>"
      ]
     },
     "metadata": {},
     "output_type": "display_data"
    }
   ],
   "source": [
    "visulize_schooltype_difference(College_df, \"Mid-Career Median Salary\")"
   ]
  },
  {
   "cell_type": "code",
   "execution_count": null,
   "metadata": {},
   "outputs": [],
   "source": []
  }
 ],
 "metadata": {
  "kernelspec": {
   "display_name": "Python 3",
   "language": "python",
   "name": "python3"
  },
  "language_info": {
   "codemirror_mode": {
    "name": "ipython",
    "version": 3
   },
   "file_extension": ".py",
   "mimetype": "text/x-python",
   "name": "python",
   "nbconvert_exporter": "python",
   "pygments_lexer": "ipython3",
   "version": "3.7.1"
  }
 },
 "nbformat": 4,
 "nbformat_minor": 2
}
